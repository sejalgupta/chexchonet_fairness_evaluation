{
 "cells": [
  {
   "cell_type": "code",
   "execution_count": 1,
   "metadata": {},
   "outputs": [],
   "source": [
    "import pandas as pd\n",
    "from sklearn.metrics import roc_curve\n",
    "import numpy as np"
   ]
  },
  {
   "cell_type": "code",
   "execution_count": 39,
   "metadata": {},
   "outputs": [],
   "source": [
    "number = 9"
   ]
  },
  {
   "cell_type": "code",
   "execution_count": 40,
   "metadata": {},
   "outputs": [
    {
     "data": {
      "text/plain": [
       "(                         patient_id  \\\n",
       " 0  00632724788f0fbfc6a0dd0fd34adcc4   \n",
       " 1  0178076bb36776d6ca72a6cb22fea16d   \n",
       " 2  0178076bb36776d6ca72a6cb22fea16d   \n",
       " 3  0178076bb36776d6ca72a6cb22fea16d   \n",
       " 4  01e639a07cbebd4084ec9b074318f515   \n",
       " \n",
       "                                     cxr_filename            cxr_time_offset  \\\n",
       " 0  00632724788f0fbfc6a0dd0fd34adcc4_acf63c2f.jpg  4963 days 03:14:32.355690   \n",
       " 1  0178076bb36776d6ca72a6cb22fea16d_6d07adbb.jpg  1956 days 16:55:44.419366   \n",
       " 2  0178076bb36776d6ca72a6cb22fea16d_862536c0.jpg  1838 days 11:48:44.419366   \n",
       " 3  0178076bb36776d6ca72a6cb22fea16d_e0b448a0.jpg  1886 days 12:03:44.419366   \n",
       " 4  01e639a07cbebd4084ec9b074318f515_37b9f596.jpg  3200 days 00:13:00.650946   \n",
       " \n",
       "    cxr_year                                           cxr_path  \\\n",
       " 0      2017  ./cxrs/00632724788f0fbfc6a0dd0fd34adcc4_acf63c...   \n",
       " 1      2015  ./cxrs/0178076bb36776d6ca72a6cb22fea16d_6d07ad...   \n",
       " 2      2014  ./cxrs/0178076bb36776d6ca72a6cb22fea16d_862536...   \n",
       " 3      2015  ./cxrs/0178076bb36776d6ca72a6cb22fea16d_e0b448...   \n",
       " 4      2015  ./cxrs/01e639a07cbebd4084ec9b074318f515_37b9f5...   \n",
       " \n",
       "    cxr_pixel_spacing_x  cxr_pixel_spacing_y  age sex      ivsd  ...  \\\n",
       " 0             0.190200             0.190200   55   F  1.225070  ...   \n",
       " 1             0.194556             0.194556   61   F  0.786523  ...   \n",
       " 2             0.194556             0.194556   61   F  0.786523  ...   \n",
       " 3             0.194556             0.194556   61   F  0.786523  ...   \n",
       " 4             0.194556             0.194556   63   M  0.995876  ...   \n",
       " \n",
       "    composite_slvh_dlv  heart_transplant  lung_transplant  pacemaker_or_icd  \\\n",
       " 0                   0                 0                0                 0   \n",
       " 1                   0                 0                0                 0   \n",
       " 2                   0                 0                0                 0   \n",
       " 3                   0                 0                0                 0   \n",
       " 4                   0                 0                0                 0   \n",
       " \n",
       "    slvh_preds  slvh_labs  dlv_preds  dlv_labs  composite_preds  composite_labs  \n",
       " 0    0.140301          0          0         0         0.140301               0  \n",
       " 1    0.138689          0          0         0         0.138689               0  \n",
       " 2    0.155258          0          0         0         0.155258               0  \n",
       " 3    0.145356          0          0         0         0.145356               0  \n",
       " 4    0.096522          0          0         0         0.096522               0  \n",
       " \n",
       " [5 rows x 24 columns],\n",
       " Index(['patient_id', 'cxr_filename', 'cxr_time_offset', 'cxr_year', 'cxr_path',\n",
       "        'cxr_pixel_spacing_x', 'cxr_pixel_spacing_y', 'age', 'sex', 'ivsd',\n",
       "        'lvpwd', 'lvidd', 'slvh', 'dlv', 'composite_slvh_dlv',\n",
       "        'heart_transplant', 'lung_transplant', 'pacemaker_or_icd', 'slvh_preds',\n",
       "        'slvh_labs', 'dlv_preds', 'dlv_labs', 'composite_preds',\n",
       "        'composite_labs'],\n",
       "       dtype='object'))"
      ]
     },
     "execution_count": 40,
     "metadata": {},
     "output_type": "execute_result"
    }
   ],
   "source": [
    "# Load the provided CSV file\n",
    "file_path = f'./results/results{number}/metadata_with_predictions_test_results_{number}.csv_updated.csv'\n",
    "data = pd.read_csv(file_path)\n",
    "\n",
    "# Display the first few rows and the columns of the dataset to understand its structure\n",
    "data.head(), data.columns"
   ]
  },
  {
   "cell_type": "code",
   "execution_count": 41,
   "metadata": {},
   "outputs": [],
   "source": [
    "data['no_finding_labs'] = abs(1 - data[\"composite_labs\"])\n",
    "data['no_finding_preds'] = abs(1 - data[\"composite_preds\"])"
   ]
  },
  {
   "cell_type": "code",
   "execution_count": 42,
   "metadata": {},
   "outputs": [],
   "source": [
    "# Extract relevant data\n",
    "y_true = data[['slvh_labs', 'dlv_labs', 'composite_labs', 'no_finding_labs']].values\n",
    "y_preds = data[['slvh_preds', 'dlv_preds', 'composite_preds', 'no_finding_preds']].values\n",
    "labels = ['slvh', 'dlv', 'composite', 'no_finding']"
   ]
  },
  {
   "cell_type": "code",
   "execution_count": 43,
   "metadata": {},
   "outputs": [],
   "source": [
    "# Function to calculate optimal thresholds\n",
    "def calculate_optimal_thresholds(y_true, y_preds, labels):\n",
    "    thresholds = {}\n",
    "    for i, label in enumerate(labels):\n",
    "        # Extract true labels and predicted probabilities for the current label\n",
    "        true = y_true[:, i]\n",
    "        preds = y_preds[:, i]\n",
    "        \n",
    "        # Compute ROC curve data\n",
    "        fpr, tpr, thresh = roc_curve(true, preds)\n",
    "        \n",
    "        # Calculate Youden's J statistic\n",
    "        j_scores = tpr - fpr\n",
    "        optimal_index = np.argmax(j_scores)\n",
    "        optimal_threshold = thresh[optimal_index]\n",
    "        \n",
    "        # Store the optimal threshold\n",
    "        thresholds[label] = optimal_threshold\n",
    "    return thresholds"
   ]
  },
  {
   "cell_type": "code",
   "execution_count": 44,
   "metadata": {},
   "outputs": [
    {
     "data": {
      "text/plain": [
       "{'slvh': 0.1585661,\n",
       " 'dlv': inf,\n",
       " 'composite': 0.15856612,\n",
       " 'no_finding': 0.84150803}"
      ]
     },
     "execution_count": 44,
     "metadata": {},
     "output_type": "execute_result"
    }
   ],
   "source": [
    "# Calculate thresholds\n",
    "thresholds = calculate_optimal_thresholds(y_true, y_preds, labels)\n",
    "thresholds"
   ]
  },
  {
   "cell_type": "code",
   "execution_count": 45,
   "metadata": {},
   "outputs": [],
   "source": [
    "# Apply the thresholds to classify the predictions\n",
    "data['slvh_classified'] = (data['slvh_preds'] >= thresholds['slvh']).astype(int)\n",
    "data['dlv_classified'] = (data['dlv_preds'] >= thresholds['dlv']).astype(int)\n",
    "data['composite_classified'] = (data['composite_preds'] >= thresholds['composite']).astype(int)\n",
    "data['no_finding_classified'] = (data['no_finding_preds'] >= thresholds['no_finding']).astype(int)"
   ]
  },
  {
   "cell_type": "code",
   "execution_count": 46,
   "metadata": {},
   "outputs": [
    {
     "data": {
      "text/html": [
       "<div>\n",
       "<style scoped>\n",
       "    .dataframe tbody tr th:only-of-type {\n",
       "        vertical-align: middle;\n",
       "    }\n",
       "\n",
       "    .dataframe tbody tr th {\n",
       "        vertical-align: top;\n",
       "    }\n",
       "\n",
       "    .dataframe thead th {\n",
       "        text-align: right;\n",
       "    }\n",
       "</style>\n",
       "<table border=\"1\" class=\"dataframe\">\n",
       "  <thead>\n",
       "    <tr style=\"text-align: right;\">\n",
       "      <th></th>\n",
       "      <th>slvh_preds</th>\n",
       "      <th>slvh_classified</th>\n",
       "      <th>slvh_labs</th>\n",
       "      <th>dlv_preds</th>\n",
       "      <th>dlv_classified</th>\n",
       "      <th>dlv_labs</th>\n",
       "      <th>composite_preds</th>\n",
       "      <th>composite_classified</th>\n",
       "      <th>composite_labs</th>\n",
       "      <th>no_finding_preds</th>\n",
       "      <th>no_finding_classified</th>\n",
       "      <th>no_finding_labs</th>\n",
       "    </tr>\n",
       "  </thead>\n",
       "  <tbody>\n",
       "    <tr>\n",
       "      <th>0</th>\n",
       "      <td>0.140301</td>\n",
       "      <td>0</td>\n",
       "      <td>0</td>\n",
       "      <td>0</td>\n",
       "      <td>0</td>\n",
       "      <td>0</td>\n",
       "      <td>0.140301</td>\n",
       "      <td>0</td>\n",
       "      <td>0</td>\n",
       "      <td>0.859699</td>\n",
       "      <td>1</td>\n",
       "      <td>1</td>\n",
       "    </tr>\n",
       "    <tr>\n",
       "      <th>1</th>\n",
       "      <td>0.138689</td>\n",
       "      <td>0</td>\n",
       "      <td>0</td>\n",
       "      <td>0</td>\n",
       "      <td>0</td>\n",
       "      <td>0</td>\n",
       "      <td>0.138689</td>\n",
       "      <td>0</td>\n",
       "      <td>0</td>\n",
       "      <td>0.861311</td>\n",
       "      <td>1</td>\n",
       "      <td>1</td>\n",
       "    </tr>\n",
       "    <tr>\n",
       "      <th>2</th>\n",
       "      <td>0.155258</td>\n",
       "      <td>0</td>\n",
       "      <td>0</td>\n",
       "      <td>0</td>\n",
       "      <td>0</td>\n",
       "      <td>0</td>\n",
       "      <td>0.155258</td>\n",
       "      <td>0</td>\n",
       "      <td>0</td>\n",
       "      <td>0.844742</td>\n",
       "      <td>1</td>\n",
       "      <td>1</td>\n",
       "    </tr>\n",
       "    <tr>\n",
       "      <th>3</th>\n",
       "      <td>0.145356</td>\n",
       "      <td>0</td>\n",
       "      <td>0</td>\n",
       "      <td>0</td>\n",
       "      <td>0</td>\n",
       "      <td>0</td>\n",
       "      <td>0.145356</td>\n",
       "      <td>0</td>\n",
       "      <td>0</td>\n",
       "      <td>0.854644</td>\n",
       "      <td>1</td>\n",
       "      <td>1</td>\n",
       "    </tr>\n",
       "    <tr>\n",
       "      <th>4</th>\n",
       "      <td>0.096522</td>\n",
       "      <td>0</td>\n",
       "      <td>0</td>\n",
       "      <td>0</td>\n",
       "      <td>0</td>\n",
       "      <td>0</td>\n",
       "      <td>0.096522</td>\n",
       "      <td>0</td>\n",
       "      <td>0</td>\n",
       "      <td>0.903478</td>\n",
       "      <td>1</td>\n",
       "      <td>1</td>\n",
       "    </tr>\n",
       "  </tbody>\n",
       "</table>\n",
       "</div>"
      ],
      "text/plain": [
       "   slvh_preds  slvh_classified  slvh_labs  dlv_preds  dlv_classified  \\\n",
       "0    0.140301                0          0          0               0   \n",
       "1    0.138689                0          0          0               0   \n",
       "2    0.155258                0          0          0               0   \n",
       "3    0.145356                0          0          0               0   \n",
       "4    0.096522                0          0          0               0   \n",
       "\n",
       "   dlv_labs  composite_preds  composite_classified  composite_labs  \\\n",
       "0         0         0.140301                     0               0   \n",
       "1         0         0.138689                     0               0   \n",
       "2         0         0.155258                     0               0   \n",
       "3         0         0.145356                     0               0   \n",
       "4         0         0.096522                     0               0   \n",
       "\n",
       "   no_finding_preds  no_finding_classified  no_finding_labs  \n",
       "0          0.859699                      1                1  \n",
       "1          0.861311                      1                1  \n",
       "2          0.844742                      1                1  \n",
       "3          0.854644                      1                1  \n",
       "4          0.903478                      1                1  "
      ]
     },
     "execution_count": 46,
     "metadata": {},
     "output_type": "execute_result"
    }
   ],
   "source": [
    "# Display the first few rows of the updated dataset with the classified predictions\n",
    "data[['slvh_preds', 'slvh_classified', 'slvh_labs', 'dlv_preds', 'dlv_classified', 'dlv_labs', 'composite_preds', 'composite_classified', 'composite_labs', 'no_finding_preds', 'no_finding_classified', 'no_finding_labs']].head()"
   ]
  },
  {
   "cell_type": "code",
   "execution_count": 47,
   "metadata": {},
   "outputs": [],
   "source": [
    "data.to_csv(f\"./results/results{number}/metadata_with_predictions_output_labels_{number}.csv\")"
   ]
  },
  {
   "cell_type": "code",
   "execution_count": null,
   "metadata": {},
   "outputs": [],
   "source": []
  },
  {
   "cell_type": "code",
   "execution_count": null,
   "metadata": {},
   "outputs": [],
   "source": []
  }
 ],
 "metadata": {
  "kernelspec": {
   "display_name": "Python 3",
   "language": "python",
   "name": "python3"
  },
  "language_info": {
   "codemirror_mode": {
    "name": "ipython",
    "version": 3
   },
   "file_extension": ".py",
   "mimetype": "text/x-python",
   "name": "python",
   "nbconvert_exporter": "python",
   "pygments_lexer": "ipython3",
   "version": "3.9.6"
  }
 },
 "nbformat": 4,
 "nbformat_minor": 2
}
