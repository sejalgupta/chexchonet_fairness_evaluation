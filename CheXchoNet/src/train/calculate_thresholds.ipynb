{
 "cells": [
  {
   "cell_type": "code",
   "execution_count": 1,
   "metadata": {},
   "outputs": [],
   "source": [
    "import pandas as pd\n",
    "from sklearn.metrics import roc_curve\n",
    "import numpy as np"
   ]
  },
  {
   "cell_type": "code",
   "execution_count": 56,
   "metadata": {},
   "outputs": [],
   "source": [
    "number = 42"
   ]
  },
  {
   "cell_type": "code",
   "execution_count": 57,
   "metadata": {},
   "outputs": [
    {
     "data": {
      "text/plain": [
       "(                         patient_id  \\\n",
       " 0  0085793617387570009bc6b879caaf29   \n",
       " 1  00947e679a0e660dfe4f39a0b1c9a2be   \n",
       " 2  00a55961d0d9a988e15dada3d9ad3688   \n",
       " 3  00ddc6b627e5600946d20879c2fc56ff   \n",
       " 4  00ddc6b627e5600946d20879c2fc56ff   \n",
       " \n",
       "                                     cxr_filename            cxr_time_offset  \\\n",
       " 0  0085793617387570009bc6b879caaf29_ae69c033.jpg  3540 days 12:24:52.908070   \n",
       " 1  00947e679a0e660dfe4f39a0b1c9a2be_89aa45c4.jpg  1386 days 17:58:31.914816   \n",
       " 2  00a55961d0d9a988e15dada3d9ad3688_bdd766ef.jpg  3025 days 22:15:18.992757   \n",
       " 3  00ddc6b627e5600946d20879c2fc56ff_0c11726f.jpg  4847 days 12:42:15.500848   \n",
       " 4  00ddc6b627e5600946d20879c2fc56ff_73843c3f.jpg  5218 days 08:10:15.500848   \n",
       " \n",
       "    cxr_year                                           cxr_path  \\\n",
       " 0      2015  ./cxrs/0085793617387570009bc6b879caaf29_ae69c0...   \n",
       " 1      2014  ./cxrs/00947e679a0e660dfe4f39a0b1c9a2be_89aa45...   \n",
       " 2      2015  ./cxrs/00a55961d0d9a988e15dada3d9ad3688_bdd766...   \n",
       " 3      2017  ./cxrs/00ddc6b627e5600946d20879c2fc56ff_0c1172...   \n",
       " 4      2018  ./cxrs/00ddc6b627e5600946d20879c2fc56ff_73843c...   \n",
       " \n",
       "    cxr_pixel_spacing_x  cxr_pixel_spacing_y       age sex      ivsd  ...  \\\n",
       " 0             0.194556             0.194556 -0.634454   F  0.671996  ...   \n",
       " 1             0.194556             0.194556  1.418261   M  1.060000  ...   \n",
       " 2             0.194556             0.194556  1.231650   F  1.076720  ...   \n",
       " 3             0.194222             0.194222 -0.385640   M  1.079490  ...   \n",
       " 4             0.194222             0.194222 -0.323437   M  1.079490  ...   \n",
       " \n",
       "    composite_slvh_dlv  heart_transplant  lung_transplant  pacemaker_or_icd  \\\n",
       " 0                   0                 0                0                 0   \n",
       " 1                   0                 0                0                 0   \n",
       " 2                   0                 0                0                 0   \n",
       " 3                   0                 0                0                 0   \n",
       " 4                   0                 0                0                 0   \n",
       " \n",
       "    slvh_preds  slvh_labs  dlv_preds  dlv_labs  composite_preds  composite_labs  \n",
       " 0    0.270441        0.0        0.0       0.0         0.270441             0.0  \n",
       " 1    0.241343        0.0        0.0       0.0         0.241343             0.0  \n",
       " 2    0.273055        0.0        0.0       0.0         0.273055             0.0  \n",
       " 3    0.228331        0.0        0.0       0.0         0.228331             0.0  \n",
       " 4    0.230147        0.0        0.0       0.0         0.230147             0.0  \n",
       " \n",
       " [5 rows x 24 columns],\n",
       " Index(['patient_id', 'cxr_filename', 'cxr_time_offset', 'cxr_year', 'cxr_path',\n",
       "        'cxr_pixel_spacing_x', 'cxr_pixel_spacing_y', 'age', 'sex', 'ivsd',\n",
       "        'lvpwd', 'lvidd', 'slvh', 'dlv', 'composite_slvh_dlv',\n",
       "        'heart_transplant', 'lung_transplant', 'pacemaker_or_icd', 'slvh_preds',\n",
       "        'slvh_labs', 'dlv_preds', 'dlv_labs', 'composite_preds',\n",
       "        'composite_labs'],\n",
       "       dtype='object'))"
      ]
     },
     "execution_count": 57,
     "metadata": {},
     "output_type": "execute_result"
    }
   ],
   "source": [
    "# Load the provided CSV file\n",
    "file_path = f'./results/results{number}/metadata_with_predictions_test_results_{number}.csv_updated.csv'\n",
    "data = pd.read_csv(file_path)\n",
    "\n",
    "# Display the first few rows and the columns of the dataset to understand its structure\n",
    "data.head(), data.columns"
   ]
  },
  {
   "cell_type": "code",
   "execution_count": 58,
   "metadata": {},
   "outputs": [],
   "source": [
    "data['no_finding_labs'] = abs(1 - data[\"composite_labs\"])\n",
    "data['no_finding_preds'] = abs(1 - data[\"composite_preds\"])"
   ]
  },
  {
   "cell_type": "code",
   "execution_count": 59,
   "metadata": {},
   "outputs": [],
   "source": [
    "# Extract relevant data\n",
    "y_true = data[['slvh_labs', 'dlv_labs', 'composite_labs', 'no_finding_labs']].values\n",
    "y_preds = data[['slvh_preds', 'dlv_preds', 'composite_preds', 'no_finding_preds']].values\n",
    "labels = ['slvh', 'dlv', 'composite', 'no_finding']"
   ]
  },
  {
   "cell_type": "code",
   "execution_count": 60,
   "metadata": {},
   "outputs": [],
   "source": [
    "# Function to calculate optimal thresholds\n",
    "def calculate_optimal_thresholds(y_true, y_preds, labels):\n",
    "    thresholds = {}\n",
    "    for i, label in enumerate(labels):\n",
    "        # Extract true labels and predicted probabilities for the current label\n",
    "        true = y_true[:, i]\n",
    "        preds = y_preds[:, i]\n",
    "        \n",
    "        # Compute ROC curve data\n",
    "        fpr, tpr, thresh = roc_curve(true, preds)\n",
    "        \n",
    "        # Calculate Youden's J statistic\n",
    "        j_scores = tpr - fpr\n",
    "        optimal_index = np.argmax(j_scores)\n",
    "        optimal_threshold = thresh[optimal_index]\n",
    "        \n",
    "        # Store the optimal threshold\n",
    "        thresholds[label] = optimal_threshold\n",
    "    return thresholds"
   ]
  },
  {
   "cell_type": "code",
   "execution_count": 61,
   "metadata": {},
   "outputs": [
    {
     "data": {
      "text/plain": [
       "{'slvh': 0.2625946,\n",
       " 'dlv': inf,\n",
       " 'composite': 0.25753528,\n",
       " 'no_finding': 0.7424798}"
      ]
     },
     "execution_count": 61,
     "metadata": {},
     "output_type": "execute_result"
    }
   ],
   "source": [
    "# Calculate thresholds\n",
    "thresholds = calculate_optimal_thresholds(y_true, y_preds, labels)\n",
    "thresholds"
   ]
  },
  {
   "cell_type": "code",
   "execution_count": 62,
   "metadata": {},
   "outputs": [],
   "source": [
    "# Apply the thresholds to classify the predictions\n",
    "data['slvh_classified'] = (data['slvh_preds'] >= thresholds['slvh']).astype(int)\n",
    "data['dlv_classified'] = (data['dlv_preds'] >= thresholds['dlv']).astype(int)\n",
    "data['composite_classified'] = (data['composite_preds'] >= thresholds['composite']).astype(int)\n",
    "data['no_finding_classified'] = (data['no_finding_preds'] >= thresholds['no_finding']).astype(int)"
   ]
  },
  {
   "cell_type": "code",
   "execution_count": 63,
   "metadata": {},
   "outputs": [
    {
     "data": {
      "text/html": [
       "<div>\n",
       "<style scoped>\n",
       "    .dataframe tbody tr th:only-of-type {\n",
       "        vertical-align: middle;\n",
       "    }\n",
       "\n",
       "    .dataframe tbody tr th {\n",
       "        vertical-align: top;\n",
       "    }\n",
       "\n",
       "    .dataframe thead th {\n",
       "        text-align: right;\n",
       "    }\n",
       "</style>\n",
       "<table border=\"1\" class=\"dataframe\">\n",
       "  <thead>\n",
       "    <tr style=\"text-align: right;\">\n",
       "      <th></th>\n",
       "      <th>slvh_preds</th>\n",
       "      <th>slvh_classified</th>\n",
       "      <th>slvh_labs</th>\n",
       "      <th>dlv_preds</th>\n",
       "      <th>dlv_classified</th>\n",
       "      <th>dlv_labs</th>\n",
       "      <th>composite_preds</th>\n",
       "      <th>composite_classified</th>\n",
       "      <th>composite_labs</th>\n",
       "      <th>no_finding_preds</th>\n",
       "      <th>no_finding_classified</th>\n",
       "      <th>no_finding_labs</th>\n",
       "    </tr>\n",
       "  </thead>\n",
       "  <tbody>\n",
       "    <tr>\n",
       "      <th>0</th>\n",
       "      <td>0.270441</td>\n",
       "      <td>1</td>\n",
       "      <td>0.0</td>\n",
       "      <td>0.0</td>\n",
       "      <td>0</td>\n",
       "      <td>0.0</td>\n",
       "      <td>0.270441</td>\n",
       "      <td>1</td>\n",
       "      <td>0.0</td>\n",
       "      <td>0.729559</td>\n",
       "      <td>0</td>\n",
       "      <td>1.0</td>\n",
       "    </tr>\n",
       "    <tr>\n",
       "      <th>1</th>\n",
       "      <td>0.241343</td>\n",
       "      <td>0</td>\n",
       "      <td>0.0</td>\n",
       "      <td>0.0</td>\n",
       "      <td>0</td>\n",
       "      <td>0.0</td>\n",
       "      <td>0.241343</td>\n",
       "      <td>0</td>\n",
       "      <td>0.0</td>\n",
       "      <td>0.758657</td>\n",
       "      <td>1</td>\n",
       "      <td>1.0</td>\n",
       "    </tr>\n",
       "    <tr>\n",
       "      <th>2</th>\n",
       "      <td>0.273055</td>\n",
       "      <td>1</td>\n",
       "      <td>0.0</td>\n",
       "      <td>0.0</td>\n",
       "      <td>0</td>\n",
       "      <td>0.0</td>\n",
       "      <td>0.273055</td>\n",
       "      <td>1</td>\n",
       "      <td>0.0</td>\n",
       "      <td>0.726945</td>\n",
       "      <td>0</td>\n",
       "      <td>1.0</td>\n",
       "    </tr>\n",
       "    <tr>\n",
       "      <th>3</th>\n",
       "      <td>0.228331</td>\n",
       "      <td>0</td>\n",
       "      <td>0.0</td>\n",
       "      <td>0.0</td>\n",
       "      <td>0</td>\n",
       "      <td>0.0</td>\n",
       "      <td>0.228331</td>\n",
       "      <td>0</td>\n",
       "      <td>0.0</td>\n",
       "      <td>0.771669</td>\n",
       "      <td>1</td>\n",
       "      <td>1.0</td>\n",
       "    </tr>\n",
       "    <tr>\n",
       "      <th>4</th>\n",
       "      <td>0.230147</td>\n",
       "      <td>0</td>\n",
       "      <td>0.0</td>\n",
       "      <td>0.0</td>\n",
       "      <td>0</td>\n",
       "      <td>0.0</td>\n",
       "      <td>0.230147</td>\n",
       "      <td>0</td>\n",
       "      <td>0.0</td>\n",
       "      <td>0.769853</td>\n",
       "      <td>1</td>\n",
       "      <td>1.0</td>\n",
       "    </tr>\n",
       "  </tbody>\n",
       "</table>\n",
       "</div>"
      ],
      "text/plain": [
       "   slvh_preds  slvh_classified  slvh_labs  dlv_preds  dlv_classified  \\\n",
       "0    0.270441                1        0.0        0.0               0   \n",
       "1    0.241343                0        0.0        0.0               0   \n",
       "2    0.273055                1        0.0        0.0               0   \n",
       "3    0.228331                0        0.0        0.0               0   \n",
       "4    0.230147                0        0.0        0.0               0   \n",
       "\n",
       "   dlv_labs  composite_preds  composite_classified  composite_labs  \\\n",
       "0       0.0         0.270441                     1             0.0   \n",
       "1       0.0         0.241343                     0             0.0   \n",
       "2       0.0         0.273055                     1             0.0   \n",
       "3       0.0         0.228331                     0             0.0   \n",
       "4       0.0         0.230147                     0             0.0   \n",
       "\n",
       "   no_finding_preds  no_finding_classified  no_finding_labs  \n",
       "0          0.729559                      0              1.0  \n",
       "1          0.758657                      1              1.0  \n",
       "2          0.726945                      0              1.0  \n",
       "3          0.771669                      1              1.0  \n",
       "4          0.769853                      1              1.0  "
      ]
     },
     "execution_count": 63,
     "metadata": {},
     "output_type": "execute_result"
    }
   ],
   "source": [
    "# Display the first few rows of the updated dataset with the classified predictions\n",
    "data[['slvh_preds', 'slvh_classified', 'slvh_labs', 'dlv_preds', 'dlv_classified', 'dlv_labs', 'composite_preds', 'composite_classified', 'composite_labs', 'no_finding_preds', 'no_finding_classified', 'no_finding_labs']].head()"
   ]
  },
  {
   "cell_type": "code",
   "execution_count": 64,
   "metadata": {},
   "outputs": [],
   "source": [
    "data.to_csv(f\"./results/results{number}/metadata_with_predictions_output_labels_{number}.csv\")"
   ]
  },
  {
   "cell_type": "code",
   "execution_count": null,
   "metadata": {},
   "outputs": [],
   "source": []
  },
  {
   "cell_type": "code",
   "execution_count": null,
   "metadata": {},
   "outputs": [],
   "source": []
  }
 ],
 "metadata": {
  "kernelspec": {
   "display_name": "Python 3",
   "language": "python",
   "name": "python3"
  },
  "language_info": {
   "codemirror_mode": {
    "name": "ipython",
    "version": 3
   },
   "file_extension": ".py",
   "mimetype": "text/x-python",
   "name": "python",
   "nbconvert_exporter": "python",
   "pygments_lexer": "ipython3",
   "version": "3.9.6"
  }
 },
 "nbformat": 4,
 "nbformat_minor": 2
}
